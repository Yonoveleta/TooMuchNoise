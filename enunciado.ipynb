{
 "cells": [
  {
   "cell_type": "markdown",
   "id": "fbcf8d89-ef0a-486e-a8ac-072b1c583af0",
   "metadata": {},
   "source": [
    "# Demasiado Ruido\n",
    "Queremos simular la transmisión de texto a través de un canal ruidoso, donde algunos de los bits van a ser dañados. Veamos los detalles."
   ]
  },
  {
   "cell_type": "markdown",
   "id": "ad0226d6-6500-4675-a571-965c1b8f306e",
   "metadata": {},
   "source": [
    "## Traducción\n",
    "La información que se transmite consistirá en secuencias de bits, pero en origen es texto. Para convertir caracteres individuales a secuencias de bits y viceversa se proporciona el fichero `./files/charactcodif.txt` con encoding UTF-8. Un extracto:\n",
    "\n",
    "```\n",
    "...\n",
    "_1100010\n",
    "a1011100\n",
    "b1000001\n",
    "c0011001\n",
    "d0111000\n",
    "e1011110\n",
    "f0000100\n",
    "...\n",
    "```\n",
    "\n",
    "Cada línea empieza por el carácter a codificar, seguido de los 7 bits que lo representan.\n",
    "\n",
    "Por ejemplo, la palabra `cada` se transformaría en la secuencia de 28 bits\n",
    "`0011001101110001110001011100`."
   ]
  },
  {
   "cell_type": "markdown",
   "id": "77ddf45a",
   "metadata": {},
   "source": [
    "## Canal\n",
    "El canal es el medio por el que se transmite el mensaje, al ser ruidoso se caracteriza por su parámetro $\\mu$, que es la probabilidad individual de que cada bit sea volteado (de modo que si era un 0, se convierte en 1 y viceversa). Todos los bits son susceptibles de ser volteados, independientemente unos de otros."
   ]
  },
  {
   "cell_type": "markdown",
   "id": "17f2aebb",
   "metadata": {},
   "source": [
    "Por ejemplo, en el mensaje anterior, al simular la transmisión con un $\\mu=0.04$ se han volteado tres bits:\n",
    "\n",
    "<code>001100<span style=\"color: red;\">0</span>101110001<span style=\"color: red;\">0</span>10001<span style=\"color: red;\">1</span>11100</code>.\n"
   ]
  },
  {
   "cell_type": "markdown",
   "id": "9d3e96ff",
   "metadata": {},
   "source": [
    "Al recibir el mensaje en destino y traducirlo a texto resulta `5aN7`. Poco inteligible, ¿verdad?"
   ]
  },
  {
   "cell_type": "markdown",
   "id": "5746e5d4",
   "metadata": {},
   "source": [
    "## Códigos Redundantes\n",
    "Dado que el canal destruye parte de la información, vamos a utilizar códigos que introducen redundancia para intentar combatirlo. Cada código viene caracterizado por una matriz, por ejemplo\n",
    "\n",
    "$$\n",
    "H_{47}=\n",
    "\\begin{pmatrix}\n",
    "1 & 0 & 0 & 0 & 1 & 1 & 0 \\\\\n",
    "0 & 1 & 0 & 0 & 1 & 0 & 1 \\\\\n",
    "0 & 0 & 1 & 0 & 0 & 1 & 1 \\\\\n",
    "0 & 0 & 0 & 1 & 1 & 1 & 1 \\\\\n",
    "\\end{pmatrix}\n",
    "$$"
   ]
  },
  {
   "cell_type": "markdown",
   "id": "2965af0f",
   "metadata": {},
   "source": [
    "Para codificar el mensaje añadiendo esa redundancia, se trocea en segmentos del tamaño del código (que es el número de filas de la matriz), en este caso 4:\n",
    "\n",
    "`0011|0011|0111|0001|1100|0101|1100`."
   ]
  },
  {
   "cell_type": "markdown",
   "id": "59e78e1e",
   "metadata": {},
   "source": [
    "Cada trozo se codifica, construyendo el vector fila con esos bits, multiplicándolo por la matriz y tomando el resto al dividir por 2:"
   ]
  },
  {
   "cell_type": "markdown",
   "id": "987c93f3",
   "metadata": {},
   "source": [
    "Para el primer segmento `0011`:\n",
    "$$\n",
    "\\begin{pmatrix}\n",
    "0 & 0 & 1 & 1 \\\\\n",
    "\\end{pmatrix}\n",
    "\\cdot\n",
    "\\begin{pmatrix}\n",
    "1 & 0 & 0 & 0 & 1 & 1 & 0 \\\\\n",
    "0 & 1 & 0 & 0 & 1 & 0 & 1 \\\\\n",
    "0 & 0 & 1 & 0 & 0 & 1 & 1 \\\\\n",
    "0 & 0 & 0 & 1 & 1 & 1 & 1 \\\\\n",
    "\\end{pmatrix}\n",
    "=\n",
    "\\begin{pmatrix}\n",
    "0 & 0 & 1 & 1 & 1 & 2 & 2 \\\\\n",
    "\\end{pmatrix}\n",
    "\\to\n",
    "\\begin{pmatrix}\n",
    "0 & 0 & 1 & 1 & 1 & 0 & 0 \\\\\n",
    "\\end{pmatrix}\n",
    "$$"
   ]
  },
  {
   "cell_type": "markdown",
   "id": "ad90c6db",
   "metadata": {},
   "source": [
    "Con lo que se obtiene la secuencia de 7 bits `0011100`. Fíjate que los primeros dígitos son los que ya había, y a eso se añaden 3 más. Procesando los 7 trozos que teníamos, obtenemos:"
   ]
  },
  {
   "cell_type": "markdown",
   "id": "ce3f7f56",
   "metadata": {},
   "source": [
    "`0011100|0011100|0111001|0001111|1100011|0101010|1100011`\n",
    "\n",
    "que da lugar a la secuencia de 49 bits \n",
    "\n",
    "`0011100001110001110010001111110001101010101100011`\n",
    "\n",
    "Este es el mensaje con redundancia incorporada que será transmitido por el canal."
   ]
  },
  {
   "cell_type": "markdown",
   "id": "5a7a88fc",
   "metadata": {},
   "source": [
    "## Recuperando la información\n",
    "Una vez recibido el mensaje a través del canal (que habrá volteado algunos bits), necesitamos decodificarlo.\n",
    "\n",
    "Para ello,\n",
    "el mensaje recibido se trocea en segmentos de la longitud que produce el código, en este caso longitud 7.\n",
    "Por ejemplo, supongamos que hubieramos recibido \n",
    "`1011100001110001110010001111110001101010101100011`. Los trozos son \n",
    "\n",
    "`1011100|0011100|0111001|0001111|1100011|0101010|1100011`\n",
    "\n",
    "Fíjate que precisamente el primer bit se ha recibido como 1 aunque originalmente era un 0.\n",
    "\n",
    "Tomamos el primer segmento `1011100`. Nos planteamos cuál debió ser el primer segmento de 4 bits del mensaje original, que ha quedado codificado con estos 7 bits. \n",
    "Dadas las $2^4 = 16$ posibles combinaciones de los 4 bits de partida, los resultados al codificar podrían ser:\n",
    "\n",
    "```\n",
    "0000000 0001111 0010011 0011100\n",
    "0100101 0101010 0110110 0111001\n",
    "1000110 1001001 1010101 1011010\n",
    "1100011 1101100 1110000 1111111\n",
    "```\n"
   ]
  },
  {
   "cell_type": "markdown",
   "id": "59455343",
   "metadata": {},
   "source": [
    "El código encontrado `1011100` no coincide con ninguno de ellos, por lo que es seguro que algún bit fue volteado. Ahora bien, para que originariamente fuera `0000000` deberían haberse volteado 4 de los 7 bits, lo que es poco probable. El más probable de entre los 16 posibles es **el más *cercano*** a `1011100`, en el sentido de que el número de bits diferentes es menor. En particular se trata de `0011100`, que solo se diferencia en un bit. Por tanto, asumimos que ése fue el que realmente se transmitió. Por ser `0011100` el mensaje transmitido, el mensaje original sin redundancia lo formarían los primeros 4 bits: `0011`.\n",
    "\n",
    "Se repite esta lógica con todos los segmentos de 7 bits transmitidos, y se van concatenando los prefijos de 4 bits asociados. Finalmente, cada bloque de 7 bits codifica un caracter según el fichero de texto proporcionado.\n",
    "\n",
    "### Observación\n",
    "Cuando antes decimos que se busca el más cercano, te podrías preguntar: ¿qué pasa si hay varios segmentos igual de cercanos? La matriz del código está hábilmente diseñada para que eso no suceda: siempre hay un código que es más cercano que cualquiera de los otros."
   ]
  },
  {
   "cell_type": "markdown",
   "id": "fefc3aab",
   "metadata": {},
   "source": [
    "# Ejercicio 1: OOP\n",
    "Queremos simular la transmisión de un mensaje con varios códigos diferentes, y distintos valores de $\\mu$.\n",
    "\n",
    "## Los códigos\n",
    "Probaremos 3 códigos.\n",
    "\n",
    "* El primero dado por la matriz\n",
    "\n",
    "$$I_7=\n",
    "\\begin{pmatrix}\n",
    "1 & 0 & 0 & 0 & 0 & 0 & 0 \\\\\n",
    "0 & 1 & 0 & 0 & 0 & 0 & 0 \\\\\n",
    "0 & 0 & 1 & 0 & 0 & 0 & 0 \\\\\n",
    "0 & 0 & 0 & 1 & 0 & 0 & 0 \\\\\n",
    "0 & 0 & 0 & 0 & 1 & 0 & 0 \\\\\n",
    "0 & 0 & 0 & 0 & 0 & 1 & 0 \\\\\n",
    "0 & 0 & 0 & 0 & 0 & 0 & 1 \\\\\n",
    "\\end{pmatrix}\n",
    "$$\n",
    "\n",
    "Esta es la matriz identidad, que por tanto deja el mensaje original tal como estaba. Servirá para ver lo que pasa cuando transmitimos la información sin redundancia alguna.\n",
    "\n",
    "* Un segundo código con inputs de 4 bits y outputs de 7 bits.\n",
    "$$\n",
    "H_{4,7}=\n",
    "\\begin{pmatrix}\n",
    "1 & 0 & 0 & 0 & 1 & 1 & 0 \\\\\n",
    "0 & 1 & 0 & 0 & 1 & 0 & 1 \\\\\n",
    "0 & 0 & 1 & 0 & 0 & 1 & 1 \\\\\n",
    "0 & 0 & 0 & 1 & 1 & 1 & 1 \\\\\n",
    "\\end{pmatrix}\n",
    "$$\n",
    "\n",
    "* Un último código con inputs de 12 bits y outputs de 23 bits.\n",
    "$$\n",
    "G_{12,23}=\n",
    "\\begin{pmatrix}\n",
    "1 & 0 & 0 & 0 & 0 & 0 & 0 & 0 & 0 & 0 & 0 & 0 & 1 & 0 & 0 & 1 & 1 & 1 & 1 & 1 & 0 & 0 & 0 \\\\\n",
    "0 & 1 & 0 & 0 & 0 & 0 & 0 & 0 & 0 & 0 & 0 & 0 & 0 & 1 & 0 & 0 & 1 & 1 & 1 & 1 & 1 & 0 & 1 \\\\\n",
    "0 & 0 & 1 & 0 & 0 & 0 & 0 & 0 & 0 & 0 & 0 & 0 & 0 & 0 & 1 & 0 & 0 & 1 & 1 & 1 & 1 & 1 & 0 \\\\\n",
    "0 & 0 & 0 & 1 & 0 & 0 & 0 & 0 & 0 & 0 & 0 & 0 & 1 & 0 & 0 & 1 & 0 & 0 & 1 & 1 & 1 & 1 & 1 \\\\\n",
    "0 & 0 & 0 & 0 & 1 & 0 & 0 & 0 & 0 & 0 & 0 & 0 & 1 & 1 & 0 & 0 & 1 & 0 & 0 & 1 & 1 & 1 & 0 \\\\\n",
    "0 & 0 & 0 & 0 & 0 & 1 & 0 & 0 & 0 & 0 & 0 & 0 & 1 & 1 & 1 & 0 & 0 & 1 & 0 & 0 & 1 & 1 & 1 \\\\\n",
    "0 & 0 & 0 & 0 & 0 & 0 & 1 & 0 & 0 & 0 & 0 & 0 & 1 & 1 & 1 & 1 & 0 & 0 & 1 & 0 & 0 & 1 & 0 \\\\\n",
    "0 & 0 & 0 & 0 & 0 & 0 & 0 & 1 & 0 & 0 & 0 & 0 & 1 & 1 & 1 & 1 & 1 & 0 & 0 & 1 & 0 & 0 & 1 \\\\\n",
    "0 & 0 & 0 & 0 & 0 & 0 & 0 & 0 & 1 & 0 & 0 & 0 & 0 & 1 & 1 & 1 & 1 & 1 & 0 & 0 & 1 & 0 & 0 \\\\\n",
    "0 & 0 & 0 & 0 & 0 & 0 & 0 & 0 & 0 & 1 & 0 & 0 & 0 & 0 & 1 & 1 & 1 & 1 & 1 & 0 & 0 & 1 & 1 \\\\\n",
    "0 & 0 & 0 & 0 & 0 & 0 & 0 & 0 & 0 & 0 & 1 & 0 & 0 & 1 & 0 & 1 & 0 & 1 & 0 & 1 & 0 & 1 & 1 \\\\\n",
    "0 & 0 & 0 & 0 & 0 & 0 & 0 & 0 & 0 & 0 & 0 & 1 & 1 & 0 & 1 & 0 & 1 & 0 & 1 & 0 & 1 & 0 & 1 \\\\\n",
    "\\end{pmatrix}\n",
    "$$\n",
    "\n"
   ]
  },
  {
   "cell_type": "markdown",
   "id": "4a8f2ec8",
   "metadata": {},
   "source": [
    "Para hacer la vida un poco más fácil, en Python:"
   ]
  },
  {
   "cell_type": "code",
   "execution_count": 1,
   "id": "7fe1ce6a",
   "metadata": {},
   "outputs": [],
   "source": [
    "import numpy as np\n",
    "H_4_7 = np.array([\n",
    "    [1, 0, 0, 0, 1, 1, 0],\n",
    "    [0, 1, 0, 0, 1, 0, 1],\n",
    "    [0, 0, 1, 0, 0, 1, 1],\n",
    "    [0, 0, 0, 1, 1, 1, 1],\n",
    "], dtype=np.uint8)\n",
    "\n",
    "G_12_23 = np.array([\n",
    "    [1, 0, 0, 0, 0, 0, 0, 0, 0, 0, 0, 0, 1, 0, 0, 1, 1, 1, 1, 1, 0, 0, 0],\n",
    "    [0, 1, 0, 0, 0, 0, 0, 0, 0, 0, 0, 0, 0, 1, 0, 0, 1, 1, 1, 1, 1, 0, 1],\n",
    "    [0, 0, 1, 0, 0, 0, 0, 0, 0, 0, 0, 0, 0, 0, 1, 0, 0, 1, 1, 1, 1, 1, 0],\n",
    "    [0, 0, 0, 1, 0, 0, 0, 0, 0, 0, 0, 0, 1, 0, 0, 1, 0, 0, 1, 1, 1, 1, 1],\n",
    "    [0, 0, 0, 0, 1, 0, 0, 0, 0, 0, 0, 0, 1, 1, 0, 0, 1, 0, 0, 1, 1, 1, 0],\n",
    "    [0, 0, 0, 0, 0, 1, 0, 0, 0, 0, 0, 0, 1, 1, 1, 0, 0, 1, 0, 0, 1, 1, 1],\n",
    "    [0, 0, 0, 0, 0, 0, 1, 0, 0, 0, 0, 0, 1, 1, 1, 1, 0, 0, 1, 0, 0, 1, 0],\n",
    "    [0, 0, 0, 0, 0, 0, 0, 1, 0, 0, 0, 0, 1, 1, 1, 1, 1, 0, 0, 1, 0, 0, 1],\n",
    "    [0, 0, 0, 0, 0, 0, 0, 0, 1, 0, 0, 0, 0, 1, 1, 1, 1, 1, 0, 0, 1, 0, 0],\n",
    "    [0, 0, 0, 0, 0, 0, 0, 0, 0, 1, 0, 0, 0, 0, 1, 1, 1, 1, 1, 0, 0, 1, 1],\n",
    "    [0, 0, 0, 0, 0, 0, 0, 0, 0, 0, 1, 0, 0, 1, 0, 1, 0, 1, 0, 1, 0, 1, 1],\n",
    "    [0, 0, 0, 0, 0, 0, 0, 0, 0, 0, 0, 1, 1, 0, 1, 0, 1, 0, 1, 0, 1, 0, 1],\n",
    "], dtype=np.uint8)"
   ]
  },
  {
   "cell_type": "markdown",
   "id": "f397d8ea",
   "metadata": {},
   "source": [
    "## El mensaje\n",
    "Hemos elegido el comienzo del [The Zen of Python](https://peps.python.org/pep-0020/), en concreto:"
   ]
  },
  {
   "cell_type": "code",
   "execution_count": 2,
   "id": "34a2a781",
   "metadata": {},
   "outputs": [],
   "source": [
    "message_text = \"Beautiful is better than ugly. Explicit is better than implicit.\""
   ]
  },
  {
   "cell_type": "markdown",
   "id": "b0f0ab88",
   "metadata": {},
   "source": [
    "## Probabilidades de volteo\n",
    "Vamos a tomar los valores $\\mu=0.0025$, $\\mu=0.01$, $\\mu=0.03$ y $\\mu=0.05$"
   ]
  },
  {
   "cell_type": "markdown",
   "id": "ecdbd443",
   "metadata": {},
   "source": [
    "## Objetivo\n",
    "Se pide una implementación que pruebe a transmitir 5 veces el mensaje elegido con cada uno de los códigos, y valores de $\\mu$. Se debe mostrar por pantalla el texto reinterpretado, así como el porcentaje de caracteres en los que ha cometido un error.\n",
    "\n",
    "Es decir, se espera algo del estilo:\n",
    "\n",
    "```\n",
    "Simulations with probFlip=0.0025\n",
    "I7 | 'Beautiful is better thaU ugly. ExplicNt is better than implicit.' | Errors: 3.12%\n",
    "I7 | 'Beautiful is better than ugly. Explicit is better than implicit.' | Errors: 0.00%\n",
    "I7 | 'Beautiful is better than ugly. Explicit is better t;an implicitB' | Errors: 3.12%\n",
    "I7 | 'Beoutiful is better than ugly. Explicit is better than implicit.' | Errors: 1.56%\n",
    "I7 | 'Beautiful is better than Tgly. Explicit is be?ter than implicit.' | Errors: 3.12%\n",
    "H4_7 | 'Beautiful is better than ugly. Explicit is better than implicit.' | Errors: 0.00%\n",
    "H4_7 | 'Beautiful is better than ugly. Explicit is better than implicit.' | Errors: 0.00%\n",
    "H4_7 | 'Beautiful is better than ugly. Explicit is better than implicit.' | Errors: 0.00%\n",
    "H4_7 | 'Beautiful is better than ugly. Explicit is better than implicit.' | Errors: 0.00%\n",
    "H4_7 | 'Beautiful is better than ugly. Explicit is better than implicit.' | Errors: 0.00%\n",
    "G12_23 | 'Beautiful is better than ugly. Explicit is better than implicit.' | Errors: 0.00%\n",
    "G12_23 | 'Beautiful is better than ugly. Explicit is better than implicit.' | Errors: 0.00%\n",
    "G12_23 | 'Beautiful is better than ugly. Explicit is better than implicit.' | Errors: 0.00%\n",
    "G12_23 | 'Beautiful is better than ugly. Explicit is better than implicit.' | Errors: 0.00%\n",
    "G12_23 | 'Beautiful is better than ugly. Explicit is better than implicit.' | Errors: 0.00%\n",
    "Simulations with probFlip=0.0100\n",
    "I7 | 'Beautiful is better than ugsy. Explic?t is better than implicit.' | Errors: 3.12%\n",
    "I7 | 'Beaut/ful i% be,ter than ugly. Explicit is better than0implLcit.' | Errors: 7.81%\n",
    "...\n",
    "```"
   ]
  },
  {
   "cell_type": "markdown",
   "id": "c10deeac",
   "metadata": {},
   "source": [
    "## Indicaciones\n",
    "El ejercicio debe enfocarse orientado a objetos. Aunque la elección de clases y métodos es parte de lo que se evalúa, se sugieren:\n",
    "* una clase `Translator` para gestionar la traducción entre texto y secuencias de bits dictada por el fichero proporcionado.\n",
    "* una clase sencilla `Channel` podría simular la transmisión de mensajes alterando las secuencias de bits según $\\mu$.\n",
    "* una clase `RedundantCode` que reciba una matriz de código, con funcionalidades para la gestión de la traducción de mensajes, introducción de redundancia en el mensaje original, eliminación de redundancia e interpretación de mensajes recibidos, etc.\n",
    "\n",
    "Para este ejercicio facilita bastante la vida tratar las secuencias de bits como `np.array` de dimensión y tipo `dtype=np.uint8`. Como los del código proporcionado para las matrices.\n"
   ]
  },
  {
   "cell_type": "markdown",
   "id": "1af08f64",
   "metadata": {},
   "source": [
    "## Observaciones\n",
    "* No todas las secuencias de 7 bits corresponden a un caracter. Podría pasarte que al reinterpretar un mensaje, finalmente busques el caracter para 7 bits concretos y en el fichero no exista. En ese caso, pon un carácter de interrogación `?`.\n",
    "\n",
    "* ¿Qué hacer si tu mensaje tiene 27 bits y estás usando un código que necesita trozos de 12 bits? Puedes rellenar con 0s por la derecha, hasta tener un múltiplo de 12, en este caso completarías hasta 36 bits y tratarías los 3 trozos. Para luego saber que el original tenía 27 bits, esa longitud puedes pasarla junto con el mensaje codificado. "
   ]
  },
  {
   "cell_type": "markdown",
   "id": "b929ec12",
   "metadata": {},
   "source": [
    "# Ejercicio 2: no OOP\n",
    "Resulta que para la matriz $G_{12,23}$, cuando partiendo de un segmento de 12 bits lo codificamos a  23 bits, se va a poder recuperar el mensaje original si de esos 23 bits se voltean exactamente 3 o menos. Eso nos permite calcular la probabilidad de que el bloque de 12 bits se reinterprete incorrectamente como:\n",
    "\n",
    "$$p(\\mu) = 1 - \\sum_{k=0}^3 {23 \\choose {k}} \\mu^k (1-\\mu)^{23-k}$$"
   ]
  },
  {
   "cell_type": "markdown",
   "id": "dcab5c93",
   "metadata": {},
   "source": [
    "Implementa esta función en Python y haz un plot para el intervalo $\\mu\\in[0, 0.05]$."
   ]
  },
  {
   "cell_type": "markdown",
   "id": "02b8e8dd",
   "metadata": {},
   "source": [
    "## Indicación\n",
    "La notación $n \\choose m$ representa los combinaciones de $n$ elementos tomados de $m$ en $m$, y puede calcularse mediante\n",
    "$${n \\choose m} = \\frac{n!}{m! (n-m)!},$$\n",
    "donde $k! = 1 \\cdot 2 \\cdot 3 \\cdot \\dots \\cdot (k-1) \\cdot k$ es el factorial de $k$."
   ]
  }
 ],
 "metadata": {
  "kernelspec": {
   "display_name": "Python 3 (ipykernel)",
   "language": "python",
   "name": "python3"
  },
  "language_info": {
   "codemirror_mode": {
    "name": "ipython",
    "version": 3
   },
   "file_extension": ".py",
   "mimetype": "text/x-python",
   "name": "python",
   "nbconvert_exporter": "python",
   "pygments_lexer": "ipython3",
   "version": "3.10.14"
  }
 },
 "nbformat": 4,
 "nbformat_minor": 5
}
